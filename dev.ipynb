{
 "cells": [
  {
   "cell_type": "code",
   "execution_count": 2,
   "id": "initial_id",
   "metadata": {
    "collapsed": true,
    "ExecuteTime": {
     "end_time": "2023-11-04T14:45:28.605382949Z",
     "start_time": "2023-11-04T14:45:27.038662639Z"
    }
   },
   "outputs": [],
   "source": [
    "import os\n",
    "from torch.utils.data import Dataset\n",
    "from torchvision import transforms\n",
    "import glob\n",
    "from typing import List, Dict\n",
    "from utils import IOHandler\n",
    "import numpy as np"
   ]
  },
  {
   "cell_type": "code",
   "execution_count": 3,
   "outputs": [],
   "source": [
    "from dataset import *"
   ],
   "metadata": {
    "collapsed": false,
    "ExecuteTime": {
     "end_time": "2023-11-04T14:45:28.664517479Z",
     "start_time": "2023-11-04T14:45:28.608003666Z"
    }
   },
   "id": "43167bdc6c5308da"
  },
  {
   "cell_type": "code",
   "execution_count": 4,
   "outputs": [],
   "source": [
    "def pil_to_numpy(im):\n",
    "    \"\"\"\n",
    "    Converts a PIL Image object to a NumPy array.\n",
    "    Source : Fast import of Pillow images to NumPy / OpenCV arrays Written by Alex Karpinsky\n",
    "\n",
    "    Args:\n",
    "        im (PIL.Image.Image): The input PIL Image object.\n",
    "\n",
    "    Returns:\n",
    "        numpy.ndarray: The NumPy array representing the image.\n",
    "    \"\"\"\n",
    "    im.load()\n",
    "\n",
    "    # Unpack data\n",
    "    e = Image._getencoder(im.mode, \"raw\", im.mode)\n",
    "    e.setimage(im.im)\n",
    "\n",
    "    # NumPy buffer for the result\n",
    "    shape, typestr = Image._conv_type_shape(im)\n",
    "    data = np.empty(shape, dtype=np.dtype(typestr))\n",
    "    mem = data.data.cast(\"B\", (data.data.nbytes,))\n",
    "\n",
    "    bufsize, s, offset = 65536, 0, 0\n",
    "    while not s:\n",
    "        l, s, d = e.encode(bufsize)\n",
    "\n",
    "        mem[offset : offset + len(d)] = d\n",
    "        offset += len(d)\n",
    "    if s < 0:\n",
    "        raise RuntimeError(\"encoder error %d in tobytes\" % s)\n",
    "    return data"
   ],
   "metadata": {
    "collapsed": false,
    "ExecuteTime": {
     "end_time": "2023-11-04T14:45:28.670673774Z",
     "start_time": "2023-11-04T14:45:28.664633910Z"
    }
   },
   "id": "f457f980a9c0079b"
  },
  {
   "cell_type": "code",
   "execution_count": 13,
   "outputs": [
    {
     "data": {
      "text/plain": "(270, 2400, 3)"
     },
     "execution_count": 13,
     "metadata": {},
     "output_type": "execute_result"
    }
   ],
   "source": [
    "from PIL import Image\n",
    "\n",
    "image_name = (\n",
    "    \"/home/ikergarcia/data/gtaai_datasets/test/car_city_day_clear/K0%3_3_3_5_5.jpeg\"\n",
    ")\n",
    "# Read image into numpy array\n",
    "image_splitter = SplitImages()\n",
    "rm = RemoveMinimap(hide_map_prob=1)\n",
    "image = Image.open(image_name)\n",
    "image = pil_to_numpy(image)\n",
    "# image = rm(image)\n",
    "img = Image.fromarray(image, \"RGB\")\n",
    "img.show()\n",
    "image.shape"
   ],
   "metadata": {
    "collapsed": false,
    "ExecuteTime": {
     "end_time": "2023-11-04T14:47:18.932335971Z",
     "start_time": "2023-11-04T14:47:18.795514706Z"
    }
   },
   "id": "1686a63bab5bca77"
  },
  {
   "cell_type": "code",
   "execution_count": 11,
   "outputs": [],
   "source": [
    "image = image_splitter(image)\n",
    "\n",
    "img = Image.fromarray(image[0], \"RGB\")\n",
    "img.show()"
   ],
   "metadata": {
    "collapsed": false,
    "ExecuteTime": {
     "end_time": "2023-11-04T14:46:15.815894712Z",
     "start_time": "2023-11-04T14:46:15.782927186Z"
    }
   },
   "id": "5030c1209acbd3eb"
  },
  {
   "cell_type": "code",
   "execution_count": 16,
   "outputs": [],
   "source": [
    "tm = TubeMaskingGenerator((5, 270, 480), 0.9)"
   ],
   "metadata": {
    "collapsed": false,
    "ExecuteTime": {
     "end_time": "2023-11-04T23:48:57.811593292Z",
     "start_time": "2023-11-04T23:48:57.807874539Z"
    }
   },
   "id": "d9bc35a11dba72ed"
  },
  {
   "cell_type": "code",
   "execution_count": 17,
   "outputs": [],
   "source": [
    "mask = tm()"
   ],
   "metadata": {
    "collapsed": false,
    "ExecuteTime": {
     "end_time": "2023-11-04T23:48:58.523279382Z",
     "start_time": "2023-11-04T23:48:58.517195390Z"
    }
   },
   "id": "891662600877ddec"
  },
  {
   "cell_type": "code",
   "execution_count": 18,
   "outputs": [
    {
     "data": {
      "text/plain": "torch.Size([648000])"
     },
     "execution_count": 18,
     "metadata": {},
     "output_type": "execute_result"
    }
   ],
   "source": [
    "mask.size()"
   ],
   "metadata": {
    "collapsed": false,
    "ExecuteTime": {
     "end_time": "2023-11-04T23:48:58.956011961Z",
     "start_time": "2023-11-04T23:48:58.944087638Z"
    }
   },
   "id": "f586309cb12815ee"
  },
  {
   "cell_type": "code",
   "execution_count": 13,
   "outputs": [],
   "source": [
    "from transformers import VideoMAEImageProcessor"
   ],
   "metadata": {
    "collapsed": false,
    "ExecuteTime": {
     "end_time": "2023-11-04T14:35:28.072389929Z",
     "start_time": "2023-11-04T14:35:28.025032043Z"
    }
   },
   "id": "a46529b7240f9c34"
  },
  {
   "cell_type": "code",
   "execution_count": null,
   "outputs": [],
   "source": [],
   "metadata": {
    "collapsed": false
   },
   "id": "3ad1b7490d41371"
  },
  {
   "cell_type": "code",
   "execution_count": null,
   "outputs": [],
   "source": [],
   "metadata": {
    "collapsed": false
   },
   "id": "995ce9cef100e3f7"
  },
  {
   "cell_type": "code",
   "execution_count": 14,
   "outputs": [],
   "source": [
    "image_processor = VideoMAEImageProcessor(\n",
    "    do_resize=False,\n",
    "    do_center_crop=False,\n",
    "    do_rescale=True,\n",
    "    do_normalize=True,\n",
    "    image_mean=[0.33363932, 0.32581538, 0.31566033],\n",
    "    image_std=[0.1914285, 0.18449214, 0.1853477],\n",
    ")"
   ],
   "metadata": {
    "collapsed": false,
    "ExecuteTime": {
     "end_time": "2023-11-04T14:35:42.482897134Z",
     "start_time": "2023-11-04T14:35:42.437683809Z"
    }
   },
   "id": "71942dea7084629f"
  },
  {
   "cell_type": "code",
   "execution_count": 22,
   "outputs": [],
   "source": [],
   "metadata": {
    "collapsed": false,
    "ExecuteTime": {
     "end_time": "2023-11-04T14:38:56.398310467Z",
     "start_time": "2023-11-04T14:38:56.224176827Z"
    }
   },
   "id": "9386960913f3e345"
  },
  {
   "cell_type": "code",
   "execution_count": 25,
   "outputs": [
    {
     "data": {
      "text/plain": "torch.Size([1, 5, 3, 270, 480])"
     },
     "execution_count": 25,
     "metadata": {},
     "output_type": "execute_result"
    }
   ],
   "source": [
    "model_inputs[\"pixel_values\"].size()"
   ],
   "metadata": {
    "collapsed": false,
    "ExecuteTime": {
     "end_time": "2023-11-04T14:39:21.062756567Z",
     "start_time": "2023-11-04T14:39:21.060025941Z"
    }
   },
   "id": "5b6099a8e6ee5cb1"
  },
  {
   "cell_type": "code",
   "execution_count": 21,
   "outputs": [
    {
     "data": {
      "text/plain": "5"
     },
     "execution_count": 21,
     "metadata": {},
     "output_type": "execute_result"
    }
   ],
   "source": [
    "len(list(image))"
   ],
   "metadata": {
    "collapsed": false,
    "ExecuteTime": {
     "end_time": "2023-11-04T14:38:48.134372156Z",
     "start_time": "2023-11-04T14:38:48.130390039Z"
    }
   },
   "id": "bc3d7bf230a51e9f"
  },
  {
   "cell_type": "code",
   "execution_count": null,
   "outputs": [],
   "source": [],
   "metadata": {
    "collapsed": false
   },
   "id": "8eaacfe66d98873b"
  }
 ],
 "metadata": {
  "kernelspec": {
   "display_name": "Python 3",
   "language": "python",
   "name": "python3"
  },
  "language_info": {
   "codemirror_mode": {
    "name": "ipython",
    "version": 2
   },
   "file_extension": ".py",
   "mimetype": "text/x-python",
   "name": "python",
   "nbconvert_exporter": "python",
   "pygments_lexer": "ipython2",
   "version": "2.7.6"
  }
 },
 "nbformat": 4,
 "nbformat_minor": 5
}
