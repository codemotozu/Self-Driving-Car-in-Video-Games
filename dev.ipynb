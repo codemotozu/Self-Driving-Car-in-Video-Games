{
 "cells": [
  {
   "cell_type": "code",
   "execution_count": 3,
   "outputs": [],
   "source": [
    "from dataset import *"
   ],
   "metadata": {
    "collapsed": false,
    "ExecuteTime": {
     "end_time": "2023-11-04T14:45:28.664517479Z",
     "start_time": "2023-11-04T14:45:28.608003666Z"
    }
   },
   "id": "43167bdc6c5308da"
  },
  {
   "cell_type": "code",
   "execution_count": 4,
   "outputs": [],
   "source": [
    "def pil_to_numpy(im):\n",
    "    \"\"\"\n",
    "    Converts a PIL Image object to a NumPy array.\n",
    "    Source : Fast import of Pillow images to NumPy / OpenCV arrays Written by Alex Karpinsky\n",
    "\n",
    "    Args:\n",
    "        im (PIL.Image.Image): The input PIL Image object.\n",
    "\n",
    "    Returns:\n",
    "        numpy.ndarray: The NumPy array representing the image.\n",
    "    \"\"\"\n",
    "    im.load()\n",
    "\n",
    "    # Unpack data\n",
    "    e = Image._getencoder(im.mode, \"raw\", im.mode)\n",
    "    e.setimage(im.im)\n",
    "\n",
    "    # NumPy buffer for the result\n",
    "    shape, typestr = Image._conv_type_shape(im)\n",
    "    data = np.empty(shape, dtype=np.dtype(typestr))\n",
    "    mem = data.data.cast(\"B\", (data.data.nbytes,))\n",
    "\n",
    "    bufsize, s, offset = 65536, 0, 0\n",
    "    while not s:\n",
    "        l, s, d = e.encode(bufsize)\n",
    "\n",
    "        mem[offset : offset + len(d)] = d\n",
    "        offset += len(d)\n",
    "    if s < 0:\n",
    "        raise RuntimeError(\"encoder error %d in tobytes\" % s)\n",
    "    return data"
   ],
   "metadata": {
    "collapsed": false,
    "ExecuteTime": {
     "end_time": "2023-11-04T14:45:28.670673774Z",
     "start_time": "2023-11-04T14:45:28.664633910Z"
    }
   },
   "id": "f457f980a9c0079b"
  },
  {
   "cell_type": "code",
   "execution_count": 13,
   "outputs": [
    {
     "data": {
      "text/plain": "(270, 2400, 3)"
     },
     "execution_count": 13,
     "metadata": {},
     "output_type": "execute_result"
    }
   ],
   "source": [
    "from PIL import Image\n",
    "\n",
    "image_name = (\n",
    "    \"/home/ikergarcia/data/gtaai_datasets/test/car_city_day_clear/K0%3_3_3_5_5.jpeg\"\n",
    ")\n",
    "# Read image into numpy array\n",
    "image_splitter = SplitImages()\n",
    "rm = RemoveMinimap(hide_map_prob=1)\n",
    "image = Image.open(image_name)\n",
    "image = pil_to_numpy(image)\n",
    "# image = rm(image)\n",
    "img = Image.fromarray(image, \"RGB\")\n",
    "img.show()\n",
    "image.shape"
   ],
   "metadata": {
    "collapsed": false,
    "ExecuteTime": {
     "end_time": "2023-11-04T14:47:18.932335971Z",
     "start_time": "2023-11-04T14:47:18.795514706Z"
    }
   },
   "id": "1686a63bab5bca77"
  },
  {
   "cell_type": "code",
   "execution_count": 11,
   "outputs": [],
   "source": [
    "image = image_splitter(image)\n",
    "\n",
    "img = Image.fromarray(image[0], \"RGB\")\n",
    "img.show()"
   ],
   "metadata": {
    "collapsed": false,
    "ExecuteTime": {
     "end_time": "2023-11-04T14:46:15.815894712Z",
     "start_time": "2023-11-04T14:46:15.782927186Z"
    }
   },
   "id": "5030c1209acbd3eb"
  },
  {
   "cell_type": "code",
   "execution_count": 16,
   "outputs": [],
   "source": [
    "tm = TubeMaskingGenerator((5, 270, 480), 0.9)"
   ],
   "metadata": {
    "collapsed": false,
    "ExecuteTime": {
     "end_time": "2023-11-04T23:48:57.811593292Z",
     "start_time": "2023-11-04T23:48:57.807874539Z"
    }
   },
   "id": "d9bc35a11dba72ed"
  },
  {
   "cell_type": "code",
   "execution_count": 17,
   "outputs": [],
   "source": [
    "mask = tm()"
   ],
   "metadata": {
    "collapsed": false,
    "ExecuteTime": {
     "end_time": "2023-11-04T23:48:58.523279382Z",
     "start_time": "2023-11-04T23:48:58.517195390Z"
    }
   },
   "id": "891662600877ddec"
  },
  {
   "cell_type": "code",
   "execution_count": 18,
   "outputs": [
    {
     "data": {
      "text/plain": "torch.Size([648000])"
     },
     "execution_count": 18,
     "metadata": {},
     "output_type": "execute_result"
    }
   ],
   "source": [
    "mask.size()"
   ],
   "metadata": {
    "collapsed": false,
    "ExecuteTime": {
     "end_time": "2023-11-04T23:48:58.956011961Z",
     "start_time": "2023-11-04T23:48:58.944087638Z"
    }
   },
   "id": "f586309cb12815ee"
  },
  {
   "cell_type": "code",
   "execution_count": 13,
   "outputs": [],
   "source": [
    "from transformers import VideoMAEImageProcessor"
   ],
   "metadata": {
    "collapsed": false,
    "ExecuteTime": {
     "end_time": "2023-11-04T14:35:28.072389929Z",
     "start_time": "2023-11-04T14:35:28.025032043Z"
    }
   },
   "id": "a46529b7240f9c34"
  },
  {
   "cell_type": "code",
   "execution_count": null,
   "outputs": [],
   "source": [],
   "metadata": {
    "collapsed": false
   },
   "id": "3ad1b7490d41371"
  },
  {
   "cell_type": "code",
   "execution_count": null,
   "outputs": [],
   "source": [],
   "metadata": {
    "collapsed": false
   },
   "id": "995ce9cef100e3f7"
  },
  {
   "cell_type": "code",
   "execution_count": 14,
   "outputs": [],
   "source": [
    "image_processor = VideoMAEImageProcessor(\n",
    "    do_resize=False,\n",
    "    do_center_crop=False,\n",
    "    do_rescale=True,\n",
    "    do_normalize=True,\n",
    "    image_mean=[0.33363932, 0.32581538, 0.31566033],\n",
    "    image_std=[0.1914285, 0.18449214, 0.1853477],\n",
    ")"
   ],
   "metadata": {
    "collapsed": false,
    "ExecuteTime": {
     "end_time": "2023-11-04T14:35:42.482897134Z",
     "start_time": "2023-11-04T14:35:42.437683809Z"
    }
   },
   "id": "71942dea7084629f"
  },
  {
   "cell_type": "code",
   "execution_count": 22,
   "outputs": [],
   "source": [],
   "metadata": {
    "collapsed": false,
    "ExecuteTime": {
     "end_time": "2023-11-04T14:38:56.398310467Z",
     "start_time": "2023-11-04T14:38:56.224176827Z"
    }
   },
   "id": "9386960913f3e345"
  },
  {
   "cell_type": "code",
   "execution_count": 25,
   "outputs": [
    {
     "data": {
      "text/plain": "torch.Size([1, 5, 3, 270, 480])"
     },
     "execution_count": 25,
     "metadata": {},
     "output_type": "execute_result"
    }
   ],
   "source": [
    "model_inputs[\"pixel_values\"].size()"
   ],
   "metadata": {
    "collapsed": false,
    "ExecuteTime": {
     "end_time": "2023-11-04T14:39:21.062756567Z",
     "start_time": "2023-11-04T14:39:21.060025941Z"
    }
   },
   "id": "5b6099a8e6ee5cb1"
  },
  {
   "cell_type": "code",
   "execution_count": 21,
   "outputs": [
    {
     "data": {
      "text/plain": "5"
     },
     "execution_count": 21,
     "metadata": {},
     "output_type": "execute_result"
    }
   ],
   "source": [
    "len(list(image))"
   ],
   "metadata": {
    "collapsed": false,
    "ExecuteTime": {
     "end_time": "2023-11-04T14:38:48.134372156Z",
     "start_time": "2023-11-04T14:38:48.130390039Z"
    }
   },
   "id": "bc3d7bf230a51e9f"
  },
  {
   "cell_type": "code",
   "execution_count": 1,
   "outputs": [
    {
     "name": "stderr",
     "output_type": "stream",
     "text": [
      "Could not find image processor class in the image processor config or the model config. Loading based on pattern matching with the model's feature extractor configuration.\n",
      "/home/ikergarcia/miniconda3/envs/transformers/lib/python3.10/site-packages/transformers/feature_extraction_utils.py:141: UserWarning: Creating a tensor from a list of numpy.ndarrays is extremely slow. Please consider converting the list to a single numpy.ndarray with numpy.array() before converting to a tensor. (Triggered internally at /opt/conda/conda-bld/pytorch_1694072516410/work/torch/csrc/utils/tensor_new.cpp:261.)\n",
      "  return torch.tensor(value)\n"
     ]
    },
    {
     "name": "stdout",
     "output_type": "stream",
     "text": [
      "logits: torch.bfloat16\n",
      "labels: torch.float32\n",
      "loss: torch.float32\n"
     ]
    },
    {
     "ename": "RuntimeError",
     "evalue": "Found dtype Float but expected BFloat16",
     "output_type": "error",
     "traceback": [
      "\u001B[0;31m---------------------------------------------------------------------------\u001B[0m",
      "\u001B[0;31mRuntimeError\u001B[0m                              Traceback (most recent call last)",
      "Cell \u001B[0;32mIn[1], line 20\u001B[0m\n\u001B[1;32m     17\u001B[0m outputs \u001B[38;5;241m=\u001B[39m model(pixel_values\u001B[38;5;241m.\u001B[39mto(device\u001B[38;5;241m=\u001B[39mmodel\u001B[38;5;241m.\u001B[39mdevice,dtype\u001B[38;5;241m=\u001B[39mmodel\u001B[38;5;241m.\u001B[39mdtype), bool_masked_pos\u001B[38;5;241m=\u001B[39mbool_masked_pos)\n\u001B[1;32m     18\u001B[0m loss \u001B[38;5;241m=\u001B[39m outputs\u001B[38;5;241m.\u001B[39mloss\n\u001B[0;32m---> 20\u001B[0m \u001B[43mloss\u001B[49m\u001B[38;5;241;43m.\u001B[39;49m\u001B[43mbackward\u001B[49m\u001B[43m(\u001B[49m\u001B[43m)\u001B[49m\n",
      "File \u001B[0;32m~/miniconda3/envs/transformers/lib/python3.10/site-packages/torch/_tensor.py:492\u001B[0m, in \u001B[0;36mTensor.backward\u001B[0;34m(self, gradient, retain_graph, create_graph, inputs)\u001B[0m\n\u001B[1;32m    482\u001B[0m \u001B[38;5;28;01mif\u001B[39;00m has_torch_function_unary(\u001B[38;5;28mself\u001B[39m):\n\u001B[1;32m    483\u001B[0m     \u001B[38;5;28;01mreturn\u001B[39;00m handle_torch_function(\n\u001B[1;32m    484\u001B[0m         Tensor\u001B[38;5;241m.\u001B[39mbackward,\n\u001B[1;32m    485\u001B[0m         (\u001B[38;5;28mself\u001B[39m,),\n\u001B[0;32m   (...)\u001B[0m\n\u001B[1;32m    490\u001B[0m         inputs\u001B[38;5;241m=\u001B[39minputs,\n\u001B[1;32m    491\u001B[0m     )\n\u001B[0;32m--> 492\u001B[0m \u001B[43mtorch\u001B[49m\u001B[38;5;241;43m.\u001B[39;49m\u001B[43mautograd\u001B[49m\u001B[38;5;241;43m.\u001B[39;49m\u001B[43mbackward\u001B[49m\u001B[43m(\u001B[49m\n\u001B[1;32m    493\u001B[0m \u001B[43m    \u001B[49m\u001B[38;5;28;43mself\u001B[39;49m\u001B[43m,\u001B[49m\u001B[43m \u001B[49m\u001B[43mgradient\u001B[49m\u001B[43m,\u001B[49m\u001B[43m \u001B[49m\u001B[43mretain_graph\u001B[49m\u001B[43m,\u001B[49m\u001B[43m \u001B[49m\u001B[43mcreate_graph\u001B[49m\u001B[43m,\u001B[49m\u001B[43m \u001B[49m\u001B[43minputs\u001B[49m\u001B[38;5;241;43m=\u001B[39;49m\u001B[43minputs\u001B[49m\n\u001B[1;32m    494\u001B[0m \u001B[43m\u001B[49m\u001B[43m)\u001B[49m\n",
      "File \u001B[0;32m~/miniconda3/envs/transformers/lib/python3.10/site-packages/torch/autograd/__init__.py:251\u001B[0m, in \u001B[0;36mbackward\u001B[0;34m(tensors, grad_tensors, retain_graph, create_graph, grad_variables, inputs)\u001B[0m\n\u001B[1;32m    246\u001B[0m     retain_graph \u001B[38;5;241m=\u001B[39m create_graph\n\u001B[1;32m    248\u001B[0m \u001B[38;5;66;03m# The reason we repeat the same comment below is that\u001B[39;00m\n\u001B[1;32m    249\u001B[0m \u001B[38;5;66;03m# some Python versions print out the first line of a multi-line function\u001B[39;00m\n\u001B[1;32m    250\u001B[0m \u001B[38;5;66;03m# calls in the traceback and some print out the last line\u001B[39;00m\n\u001B[0;32m--> 251\u001B[0m \u001B[43mVariable\u001B[49m\u001B[38;5;241;43m.\u001B[39;49m\u001B[43m_execution_engine\u001B[49m\u001B[38;5;241;43m.\u001B[39;49m\u001B[43mrun_backward\u001B[49m\u001B[43m(\u001B[49m\u001B[43m  \u001B[49m\u001B[38;5;66;43;03m# Calls into the C++ engine to run the backward pass\u001B[39;49;00m\n\u001B[1;32m    252\u001B[0m \u001B[43m    \u001B[49m\u001B[43mtensors\u001B[49m\u001B[43m,\u001B[49m\n\u001B[1;32m    253\u001B[0m \u001B[43m    \u001B[49m\u001B[43mgrad_tensors_\u001B[49m\u001B[43m,\u001B[49m\n\u001B[1;32m    254\u001B[0m \u001B[43m    \u001B[49m\u001B[43mretain_graph\u001B[49m\u001B[43m,\u001B[49m\n\u001B[1;32m    255\u001B[0m \u001B[43m    \u001B[49m\u001B[43mcreate_graph\u001B[49m\u001B[43m,\u001B[49m\n\u001B[1;32m    256\u001B[0m \u001B[43m    \u001B[49m\u001B[43minputs\u001B[49m\u001B[43m,\u001B[49m\n\u001B[1;32m    257\u001B[0m \u001B[43m    \u001B[49m\u001B[43mallow_unreachable\u001B[49m\u001B[38;5;241;43m=\u001B[39;49m\u001B[38;5;28;43;01mTrue\u001B[39;49;00m\u001B[43m,\u001B[49m\n\u001B[1;32m    258\u001B[0m \u001B[43m    \u001B[49m\u001B[43maccumulate_grad\u001B[49m\u001B[38;5;241;43m=\u001B[39;49m\u001B[38;5;28;43;01mTrue\u001B[39;49;00m\u001B[43m,\u001B[49m\n\u001B[1;32m    259\u001B[0m \u001B[43m\u001B[49m\u001B[43m)\u001B[49m\n",
      "\u001B[0;31mRuntimeError\u001B[0m: Found dtype Float but expected BFloat16"
     ]
    }
   ],
   "source": [
    "from transformers import AutoImageProcessor, VideoMAEForPreTraining\n",
    "import numpy as np\n",
    "import torch\n",
    "\n",
    "num_frames = 16\n",
    "video = list(np.random.randint(0, 256, (num_frames, 3, 224, 224)))\n",
    "\n",
    "image_processor = AutoImageProcessor.from_pretrained(\"MCG-NJU/videomae-base\")\n",
    "model = VideoMAEForPreTraining.from_pretrained(\n",
    "    \"MCG-NJU/videomae-base\", torch_dtype=torch.bfloat16\n",
    ").to(\"cuda\")\n",
    "\n",
    "pixel_values = image_processor(video, return_tensors=\"pt\").pixel_values\n",
    "\n",
    "num_patches_per_frame = (model.config.image_size // model.config.patch_size) ** 2\n",
    "seq_length = (num_frames // model.config.tubelet_size) * num_patches_per_frame\n",
    "bool_masked_pos = torch.randint(0, 2, (1, seq_length)).bool()\n",
    "\n",
    "outputs = model(\n",
    "    pixel_values.to(device=model.device, dtype=model.dtype),\n",
    "    bool_masked_pos=bool_masked_pos,\n",
    ")\n",
    "loss = outputs.loss\n",
    "\n",
    "loss.backward()"
   ],
   "metadata": {
    "collapsed": false,
    "ExecuteTime": {
     "end_time": "2023-11-05T19:37:20.125805220Z",
     "start_time": "2023-11-05T19:37:14.068455458Z"
    }
   },
   "id": "8eaacfe66d98873b"
  },
  {
   "cell_type": "code",
   "execution_count": 3,
   "outputs": [
    {
     "name": "stderr",
     "output_type": "stream",
     "text": [
      "Some weights of VideoMAEForPreTraining were not initialized from the model checkpoint at models/VideoMAE-base and are newly initialized: ['decoder.decoder_layers.5.layernorm_before.weight', 'decoder.decoder_layers.0.attention.output.dense.bias', 'decoder.decoder_layers.5.attention.attention.v_bias', 'decoder.decoder_layers.0.attention.attention.key.weight', 'decoder.decoder_layers.5.layernorm_before.bias', 'decoder.decoder_layers.0.layernorm_before.weight', 'decoder.decoder_layers.0.output.dense.weight', 'decoder.decoder_layers.1.layernorm_after.bias', 'decoder.decoder_layers.3.attention.attention.v_bias', 'decoder.decoder_layers.2.output.dense.weight', 'decoder.decoder_layers.4.attention.output.dense.weight', 'decoder.decoder_layers.3.attention.attention.key.weight', 'decoder.decoder_layers.3.attention.output.dense.weight', 'decoder.decoder_layers.1.attention.output.dense.bias', 'decoder.decoder_layers.3.layernorm_after.weight', 'decoder.decoder_layers.4.attention.attention.key.weight', 'decoder.decoder_layers.5.output.dense.weight', 'decoder.decoder_layers.0.attention.attention.v_bias', 'decoder.decoder_layers.1.attention.output.dense.weight', 'decoder.decoder_layers.5.intermediate.dense.bias', 'decoder.decoder_layers.2.attention.output.dense.bias', 'decoder.decoder_layers.0.layernorm_before.bias', 'decoder.decoder_layers.1.output.dense.bias', 'decoder.decoder_layers.0.layernorm_after.weight', 'decoder.decoder_layers.5.layernorm_after.weight', 'decoder.decoder_layers.2.attention.attention.q_bias', 'decoder.decoder_layers.3.intermediate.dense.weight', 'decoder.decoder_layers.4.layernorm_before.bias', 'decoder.decoder_layers.3.layernorm_before.bias', 'decoder.decoder_layers.3.attention.attention.query.weight', 'decoder.decoder_layers.4.attention.output.dense.bias', 'decoder.decoder_layers.1.attention.attention.q_bias', 'decoder.decoder_layers.2.attention.attention.key.weight', 'decoder.decoder_layers.4.output.dense.weight', 'decoder.decoder_layers.2.intermediate.dense.bias', 'decoder.decoder_layers.0.layernorm_after.bias', 'encoder_to_decoder.weight', 'decoder.norm.bias', 'decoder.decoder_layers.3.attention.attention.q_bias', 'decoder.decoder_layers.1.output.dense.weight', 'decoder.decoder_layers.5.attention.attention.value.weight', 'decoder.decoder_layers.5.layernorm_after.bias', 'decoder.decoder_layers.5.intermediate.dense.weight', 'decoder.decoder_layers.3.output.dense.weight', 'decoder.decoder_layers.5.attention.attention.key.weight', 'decoder.decoder_layers.2.layernorm_before.weight', 'decoder.decoder_layers.3.attention.attention.value.weight', 'decoder.decoder_layers.3.intermediate.dense.bias', 'decoder.decoder_layers.4.layernorm_after.bias', 'decoder.decoder_layers.3.attention.output.dense.bias', 'decoder.norm.weight', 'decoder.decoder_layers.2.layernorm_before.bias', 'decoder.decoder_layers.1.attention.attention.value.weight', 'decoder.decoder_layers.2.attention.output.dense.weight', 'decoder.head.bias', 'decoder.decoder_layers.4.layernorm_before.weight', 'decoder.decoder_layers.2.attention.attention.query.weight', 'decoder.decoder_layers.5.attention.output.dense.weight', 'decoder.decoder_layers.0.intermediate.dense.weight', 'decoder.decoder_layers.4.layernorm_after.weight', 'decoder.decoder_layers.3.output.dense.bias', 'decoder.decoder_layers.1.intermediate.dense.weight', 'decoder.decoder_layers.3.layernorm_after.bias', 'decoder.decoder_layers.0.intermediate.dense.bias', 'decoder.decoder_layers.4.attention.attention.value.weight', 'decoder.decoder_layers.2.attention.attention.v_bias', 'decoder.decoder_layers.1.layernorm_before.bias', 'decoder.decoder_layers.0.attention.attention.query.weight', 'decoder.decoder_layers.4.intermediate.dense.bias', 'decoder.decoder_layers.4.output.dense.bias', 'mask_token', 'decoder.decoder_layers.1.layernorm_after.weight', 'decoder.decoder_layers.4.intermediate.dense.weight', 'decoder.decoder_layers.1.intermediate.dense.bias', 'decoder.decoder_layers.4.attention.attention.v_bias', 'decoder.decoder_layers.1.attention.attention.v_bias', 'decoder.decoder_layers.4.attention.attention.query.weight', 'decoder.decoder_layers.2.attention.attention.value.weight', 'decoder.decoder_layers.2.layernorm_after.bias', 'decoder.head.weight', 'decoder.decoder_layers.5.attention.attention.query.weight', 'decoder.decoder_layers.1.attention.attention.query.weight', 'decoder.decoder_layers.0.attention.attention.q_bias', 'decoder.decoder_layers.1.layernorm_before.weight', 'decoder.decoder_layers.0.attention.attention.value.weight', 'decoder.decoder_layers.0.output.dense.bias', 'decoder.decoder_layers.3.layernorm_before.weight', 'decoder.decoder_layers.2.output.dense.bias', 'decoder.decoder_layers.5.attention.output.dense.bias', 'decoder.decoder_layers.4.attention.attention.q_bias', 'decoder.decoder_layers.5.output.dense.bias', 'decoder.decoder_layers.1.attention.attention.key.weight', 'decoder.decoder_layers.2.intermediate.dense.weight', 'decoder.decoder_layers.2.layernorm_after.weight', 'decoder.decoder_layers.5.attention.attention.q_bias', 'decoder.decoder_layers.0.attention.output.dense.weight']\n",
      "You should probably TRAIN this model on a down-stream task to be able to use it for predictions and inference.\n"
     ]
    }
   ],
   "source": [
    "from modeling_videomae import VideoMAEForPreTraining\n",
    "import torch\n",
    "\n",
    "model = VideoMAEForPreTraining.from_pretrained(\n",
    "    \"models/VideoMAE-base\", torch_dtype=torch.bfloat16\n",
    ")"
   ],
   "metadata": {
    "collapsed": false,
    "ExecuteTime": {
     "end_time": "2023-11-07T23:54:52.278514076Z",
     "start_time": "2023-11-07T23:54:47.357515222Z"
    }
   },
   "id": "5179e202eb07046d"
  },
  {
   "cell_type": "code",
   "execution_count": 4,
   "outputs": [
    {
     "data": {
      "text/plain": "VideoMAEConfig {\n  \"_name_or_path\": \"models/VideoMAE-base\",\n  \"architectures\": [\n    \"VideoMAEModel\"\n  ],\n  \"attention_probs_dropout_prob\": 0.0,\n  \"decoder_hidden_size\": 384,\n  \"decoder_intermediate_size\": 1536,\n  \"decoder_num_attention_heads\": 6,\n  \"decoder_num_hidden_layers\": 6,\n  \"hidden_act\": \"gelu\",\n  \"hidden_dropout_prob\": 0.0,\n  \"hidden_size\": 768,\n  \"image_size\": [\n    270,\n    480\n  ],\n  \"initializer_range\": 0.02,\n  \"intermediate_size\": 3072,\n  \"layer_norm_eps\": 1e-12,\n  \"model_type\": \"videomae\",\n  \"norm_pix_loss\": true,\n  \"num_attention_heads\": 12,\n  \"num_channels\": 3,\n  \"num_frames\": 5,\n  \"num_hidden_layers\": 12,\n  \"patch_size\": 15,\n  \"qkv_bias\": true,\n  \"torch_dtype\": \"float32\",\n  \"transformers_version\": \"4.35.0\",\n  \"tubelet_size\": 1,\n  \"use_mean_pooling\": true\n}"
     },
     "execution_count": 4,
     "metadata": {},
     "output_type": "execute_result"
    }
   ],
   "source": [
    "model.config"
   ],
   "metadata": {
    "collapsed": false,
    "ExecuteTime": {
     "end_time": "2023-11-07T23:54:52.287404324Z",
     "start_time": "2023-11-07T23:54:52.281085844Z"
    }
   },
   "id": "63edd0a63f77ccc6"
  },
  {
   "cell_type": "code",
   "outputs": [],
   "source": [],
   "metadata": {
    "collapsed": false
   },
   "id": "9356b801c165faa7"
  },
  {
   "cell_type": "code",
   "outputs": [],
   "source": [],
   "metadata": {
    "collapsed": false
   },
   "id": "2211e961c5b00021"
  },
  {
   "cell_type": "code",
   "outputs": [],
   "source": [],
   "metadata": {
    "collapsed": false
   },
   "id": "8ef8082f43d0b72"
  },
  {
   "cell_type": "code",
   "execution_count": 1,
   "outputs": [],
   "source": [
    "from dataset import *"
   ],
   "metadata": {
    "collapsed": false,
    "ExecuteTime": {
     "end_time": "2023-12-22T16:52:55.493543400Z",
     "start_time": "2023-12-22T16:52:52.767114200Z"
    }
   },
   "id": "c64a7ffc9bb70af"
  },
  {
   "cell_type": "code",
   "outputs": [],
   "source": [
    "from transformers import VideoMAEImageProcessor as original_image_processor\n",
    "from image_processing_videomae import VideoMAEImageProcessor as new_image_processor\n",
    "import torch"
   ],
   "metadata": {
    "collapsed": false,
    "ExecuteTime": {
     "end_time": "2023-12-23T13:25:04.496471215Z",
     "start_time": "2023-12-23T13:25:03.570748565Z"
    }
   },
   "id": "b162505ec245eae2",
   "execution_count": 1
  },
  {
   "cell_type": "code",
   "outputs": [],
   "source": [
    "IMAGE_MEAN: list[float] = [0.33363932, 0.32581538, 0.31566033]\n",
    "IMAGE_STD: list[float] = [0.1914285, 0.18449214, 0.1853477]\n",
    "\n",
    "image_processor_og = original_image_processor(\n",
    "    do_resize=False,\n",
    "    do_center_crop=False,\n",
    "    do_rescale=True,\n",
    "    do_normalize=True,\n",
    "    image_mean=IMAGE_MEAN,\n",
    "    image_std=IMAGE_STD,\n",
    ")\n",
    "\n",
    "image_processor_new = new_image_processor(\n",
    "    do_resize=False,\n",
    "    do_center_crop=False,\n",
    "    do_rescale=True,\n",
    "    do_normalize=True,\n",
    "    image_mean=IMAGE_MEAN,\n",
    "    image_std=IMAGE_STD,\n",
    ")"
   ],
   "metadata": {
    "collapsed": false,
    "ExecuteTime": {
     "end_time": "2023-12-23T13:25:04.501443584Z",
     "start_time": "2023-12-23T13:25:04.498174091Z"
    }
   },
   "id": "544e3d0fda7e8598",
   "execution_count": 2
  },
  {
   "cell_type": "code",
   "outputs": [],
   "source": [
    "import numpy as np"
   ],
   "metadata": {
    "collapsed": false,
    "ExecuteTime": {
     "end_time": "2023-12-23T13:25:04.521555213Z",
     "start_time": "2023-12-23T13:25:04.499733776Z"
    }
   },
   "id": "78115456134cf05a",
   "execution_count": 3
  },
  {
   "cell_type": "code",
   "outputs": [
    {
     "name": "stdout",
     "output_type": "stream",
     "text": [
      "128\n",
      "(200, 200, 3)\n",
      "[119 129 132]\n"
     ]
    }
   ],
   "source": [
    "image_sequences = np.asarray(\n",
    "                    [\n",
    "                        np.random.rand(200, 200, 3)*255,\n",
    "                    ]*128,\n",
    "                    dtype=np.uint8,\n",
    "                )\n",
    "\n",
    "image_sequences = list(image_sequences)\n",
    "print(len(image_sequences))\n",
    "print(image_sequences[0].shape)\n",
    "print(image_sequences[0][0][0][:10])\n",
    "\n",
    "\n"
   ],
   "metadata": {
    "collapsed": false,
    "ExecuteTime": {
     "end_time": "2023-12-23T13:25:10.812790214Z",
     "start_time": "2023-12-23T13:25:10.801420902Z"
    }
   },
   "id": "b8487ceed3733933",
   "execution_count": 5
  },
  {
   "cell_type": "code",
   "outputs": [],
   "source": [],
   "metadata": {
    "collapsed": false,
    "ExecuteTime": {
     "end_time": "2023-12-23T13:25:11.822262175Z",
     "start_time": "2023-12-23T13:25:11.819387936Z"
    }
   },
   "id": "dac28070ceb6f152",
   "execution_count": 5
  },
  {
   "cell_type": "code",
   "outputs": [
    {
     "name": "stderr",
     "output_type": "stream",
     "text": [
      "/home/iker/miniconda3/envs/transformers/lib/python3.11/site-packages/transformers/feature_extraction_utils.py:141: UserWarning: Creating a tensor from a list of numpy.ndarrays is extremely slow. Please consider converting the list to a single numpy.ndarray with numpy.array() before converting to a tensor. (Triggered internally at ../torch/csrc/utils/tensor_new.cpp:261.)\n",
      "  return torch.tensor(value)\n"
     ]
    },
    {
     "name": "stdout",
     "output_type": "stream",
     "text": [
      "1.11 s ± 123 ms per loop (mean ± std. dev. of 7 runs, 1 loop each)\n"
     ]
    }
   ],
   "source": [
    "%%timeit\n",
    "model_inputs_og = image_processor_og(\n",
    "                        images=image_sequences,\n",
    "                        input_data_format=\"channels_last\",\n",
    "                        return_tensors=\"pt\",\n",
    "                    )"
   ],
   "metadata": {
    "collapsed": false,
    "ExecuteTime": {
     "end_time": "2023-12-23T13:25:21.987684908Z",
     "start_time": "2023-12-23T13:25:12.845869391Z"
    }
   },
   "id": "24f2250872a24c9a",
   "execution_count": 6
  },
  {
   "cell_type": "raw",
   "source": [],
   "metadata": {
    "collapsed": false
   },
   "id": "b50570cdee574077"
  },
  {
   "cell_type": "code",
   "outputs": [
    {
     "name": "stdout",
     "output_type": "stream",
     "text": [
      "154 ms ± 2.26 ms per loop (mean ± std. dev. of 7 runs, 10 loops each)\n"
     ]
    }
   ],
   "source": [
    "%%timeit\n",
    "model_inputs_new = image_processor_new(\n",
    "                        images=image_sequences,\n",
    "                        input_data_format=\"channels_last\",\n",
    "                        return_tensors=\"pt\",\n",
    "                    )"
   ],
   "metadata": {
    "collapsed": false,
    "ExecuteTime": {
     "end_time": "2023-12-23T13:25:34.686965785Z",
     "start_time": "2023-12-23T13:25:21.988856137Z"
    }
   },
   "id": "5cb06da2a482f51c",
   "execution_count": 7
  },
  {
   "cell_type": "code",
   "outputs": [
    {
     "data": {
      "text/plain": "torch.Size([1, 128, 3, 200, 200])"
     },
     "execution_count": 8,
     "metadata": {},
     "output_type": "execute_result"
    }
   ],
   "source": [
    "model_inputs_og = image_processor_og(\n",
    "                        images=image_sequences,\n",
    "                        input_data_format=\"channels_last\",\n",
    "                        return_tensors=\"pt\",\n",
    "                    )\n",
    "model_inputs_og[\"pixel_values\"].size()"
   ],
   "metadata": {
    "collapsed": false,
    "ExecuteTime": {
     "end_time": "2023-12-23T13:25:35.671913519Z",
     "start_time": "2023-12-23T13:25:34.686786419Z"
    }
   },
   "id": "e90fe142f751c55f",
   "execution_count": 8
  },
  {
   "cell_type": "code",
   "outputs": [
    {
     "data": {
      "text/plain": "torch.Size([1, 128, 3, 200, 200])"
     },
     "execution_count": 9,
     "metadata": {},
     "output_type": "execute_result"
    }
   ],
   "source": [
    "model_inputs_new = image_processor_new(\n",
    "                        images=image_sequences,\n",
    "                        input_data_format=\"channels_last\",\n",
    "                        return_tensors=\"pt\",\n",
    "                    )\n",
    "\n",
    "model_inputs_new[\"pixel_values\"].size()"
   ],
   "metadata": {
    "collapsed": false,
    "ExecuteTime": {
     "end_time": "2023-12-23T13:25:35.828453764Z",
     "start_time": "2023-12-23T13:25:35.673221194Z"
    }
   },
   "id": "ee5ef505d11f1794",
   "execution_count": 9
  },
  {
   "cell_type": "code",
   "outputs": [
    {
     "data": {
      "text/plain": "tensor(True)"
     },
     "execution_count": 12,
     "metadata": {},
     "output_type": "execute_result"
    }
   ],
   "source": [
    "torch.all(model_inputs_new[\"pixel_values\"]==model_inputs_og[\"pixel_values\"])"
   ],
   "metadata": {
    "collapsed": false,
    "ExecuteTime": {
     "end_time": "2023-12-23T13:13:16.953709728Z",
     "start_time": "2023-12-23T13:13:16.944267807Z"
    }
   },
   "id": "f67d14cb3332de18",
   "execution_count": 12
  },
  {
   "cell_type": "code",
   "outputs": [
    {
     "data": {
      "text/plain": "torch.Size([1, 5, 3, 270, 480])"
     },
     "execution_count": 14,
     "metadata": {},
     "output_type": "execute_result"
    }
   ],
   "source": [],
   "metadata": {
    "collapsed": false,
    "ExecuteTime": {
     "end_time": "2023-12-22T16:56:05.601407600Z",
     "start_time": "2023-12-22T16:56:05.595109Z"
    }
   },
   "id": "90b88d26018a6b51",
   "execution_count": 14
  },
  {
   "cell_type": "code",
   "outputs": [],
   "source": [
    "from dataset import Tedd1104Dataset"
   ],
   "metadata": {
    "collapsed": false,
    "ExecuteTime": {
     "end_time": "2023-12-31T12:49:35.322298385Z",
     "start_time": "2023-12-31T12:49:33.904740858Z"
    }
   },
   "id": "649519232814a950",
   "execution_count": 1
  },
  {
   "cell_type": "code",
   "outputs": [
    {
     "name": "stderr",
     "output_type": "stream",
     "text": [
      "WARNING:root:You have set mask_ratio > 0, however tubelet_size is 5. Therefore, sequences are tokenized as a single image. We cannot mask the images or the whole sequence will be masked. We will set mask_ratio to 0.\n"
     ]
    }
   ],
   "source": [
    "dataset = Tedd1104Dataset(dataset_dir=\"/home/iker/Downloads/TEDD1104_Dev_Test/dev\",hide_map_prob=0.0,mask_ratio=0.0,patch_size=30, tubelet_size = 5)"
   ],
   "metadata": {
    "collapsed": false,
    "ExecuteTime": {
     "end_time": "2023-12-31T12:51:09.629604155Z",
     "start_time": "2023-12-31T12:51:09.577071867Z"
    }
   },
   "id": "a44b227c994ba432",
   "execution_count": 2
  },
  {
   "cell_type": "code",
   "outputs": [
    {
     "data": {
      "text/plain": "torch.Size([1, 5, 3, 270, 480])"
     },
     "execution_count": 15,
     "metadata": {},
     "output_type": "execute_result"
    }
   ],
   "source": [
    "model_input = dataset[0][\"pixel_values\"].unsqueeze(0)\n",
    "model_input.size()"
   ],
   "metadata": {
    "collapsed": false,
    "ExecuteTime": {
     "end_time": "2023-12-31T12:55:35.949736754Z",
     "start_time": "2023-12-31T12:55:35.894422284Z"
    }
   },
   "id": "ce3d1fb46491ff4b",
   "execution_count": 15
  },
  {
   "cell_type": "code",
   "outputs": [],
   "source": [
    "from modeling_videomae import VideoMAEEmbeddings, VideoMAEConfig"
   ],
   "metadata": {
    "collapsed": false,
    "ExecuteTime": {
     "end_time": "2023-12-31T12:53:48.522007543Z",
     "start_time": "2023-12-31T12:53:48.501584882Z"
    }
   },
   "id": "29b4cd3414452b48",
   "execution_count": 8
  },
  {
   "cell_type": "code",
   "outputs": [],
   "source": [
    "config = VideoMAEConfig(\n",
    "    image_size=(270, 480),\n",
    "    patch_size=15,\n",
    "    num_channels=3,\n",
    "    num_frames=5,\n",
    "    tubelet_size=5,\n",
    "    hidden_size=1200,\n",
    "    num_hidden_layers=24,\n",
    "    num_attention_heads=24,\n",
    "    intermediate_size=5120,\n",
    "    decoder_num_attention_heads=10,\n",
    "    decoder_hidden_size=640,\n",
    "    decoder_num_hidden_layers=10,\n",
    "    decoder_intermediate_size=2560,\n",
    "    hidden_dropout_prob=0.1,\n",
    "    attention_probs_dropout_prob=0.1,\n",
    ")"
   ],
   "metadata": {
    "collapsed": false,
    "ExecuteTime": {
     "end_time": "2023-12-31T12:55:42.168351442Z",
     "start_time": "2023-12-31T12:55:42.155402880Z"
    }
   },
   "id": "fa58b35025bd93c",
   "execution_count": 16
  },
  {
   "cell_type": "code",
   "outputs": [],
   "source": [
    "embeddings = VideoMAEEmbeddings(config)\n"
   ],
   "metadata": {
    "collapsed": false,
    "ExecuteTime": {
     "end_time": "2023-12-31T12:55:43.249212819Z",
     "start_time": "2023-12-31T12:55:42.613381849Z"
    }
   },
   "id": "6f6d18430d99f26c",
   "execution_count": 17
  },
  {
   "cell_type": "code",
   "outputs": [
    {
     "data": {
      "text/plain": "torch.Size([1, 576, 1200])"
     },
     "execution_count": 19,
     "metadata": {},
     "output_type": "execute_result"
    }
   ],
   "source": [
    "embedding_output = embeddings(model_input, None)\n",
    "embedding_output.size()"
   ],
   "metadata": {
    "collapsed": false,
    "ExecuteTime": {
     "end_time": "2023-12-31T12:55:48.667054167Z",
     "start_time": "2023-12-31T12:55:48.646192054Z"
    }
   },
   "id": "1718da740761dd8b",
   "execution_count": 19
  },
  {
   "cell_type": "code",
   "outputs": [],
   "source": [],
   "metadata": {
    "collapsed": false
   },
   "id": "8d6308d2a96eebbb"
  },
  {
   "cell_type": "code",
   "outputs": [],
   "source": [
    "from transformers.models.mistral.modeling_mistral import MistralModel, MistralConfig"
   ],
   "metadata": {
    "collapsed": false,
    "ExecuteTime": {
     "end_time": "2023-12-31T12:59:19.307013469Z",
     "start_time": "2023-12-31T12:59:19.297908698Z"
    }
   },
   "id": "a20cbbcad7dc9d1b",
   "execution_count": 23
  },
  {
   "cell_type": "code",
   "outputs": [],
   "source": [
    "mistral_config = MistralConfig(\n",
    "        vocab_size=32000,\n",
    "        hidden_size=512,\n",
    "        intermediate_size=512,\n",
    "        num_hidden_layers=8,\n",
    "        num_attention_heads=8,\n",
    "        num_key_value_heads=8,\n",
    "        hidden_act=\"silu\",\n",
    "        max_position_embeddings=4096 * 32,\n",
    "        initializer_range=0.02,\n",
    "        rms_norm_eps=1e-6,\n",
    "        use_cache=True,\n",
    "        pad_token_id=None,\n",
    "        bos_token_id=1,\n",
    "        eos_token_id=2,\n",
    "        tie_word_embeddings=False,\n",
    "        rope_theta=10000.0,\n",
    "        sliding_window=4096,\n",
    "        attention_dropout=0.0,)\n",
    "encoder = MistralModel(mistral_config)"
   ],
   "metadata": {
    "collapsed": false,
    "ExecuteTime": {
     "end_time": "2023-12-31T13:00:56.197984023Z",
     "start_time": "2023-12-31T13:00:55.749425492Z"
    }
   },
   "id": "ba5a2a7bc28ad3e4",
   "execution_count": 26
  },
  {
   "cell_type": "code",
   "outputs": [
    {
     "ename": "ValueError",
     "evalue": "too many values to unpack (expected 2)",
     "output_type": "error",
     "traceback": [
      "\u001B[0;31m---------------------------------------------------------------------------\u001B[0m",
      "\u001B[0;31mValueError\u001B[0m                                Traceback (most recent call last)",
      "Cell \u001B[0;32mIn[28], line 1\u001B[0m\n\u001B[0;32m----> 1\u001B[0m encoder_outputs \u001B[38;5;241m=\u001B[39m encoder(\n\u001B[1;32m      2\u001B[0m             embedding_output,\n\u001B[1;32m      3\u001B[0m             attention_mask\u001B[38;5;241m=\u001B[39m\u001B[38;5;28;01mNone\u001B[39;00m,\n\u001B[1;32m      4\u001B[0m             output_attentions\u001B[38;5;241m=\u001B[39m\u001B[38;5;28;01mFalse\u001B[39;00m,\n\u001B[1;32m      5\u001B[0m             output_hidden_states\u001B[38;5;241m=\u001B[39m\u001B[38;5;28;01mFalse\u001B[39;00m,\n\u001B[1;32m      6\u001B[0m             return_dict\u001B[38;5;241m=\u001B[39m\u001B[38;5;28;01mFalse\u001B[39;00m,\n\u001B[1;32m      7\u001B[0m         )\n",
      "File \u001B[0;32m~/miniconda3/envs/transformers/lib/python3.11/site-packages/torch/nn/modules/module.py:1518\u001B[0m, in \u001B[0;36mModule._wrapped_call_impl\u001B[0;34m(self, *args, **kwargs)\u001B[0m\n\u001B[1;32m   1516\u001B[0m     \u001B[38;5;28;01mreturn\u001B[39;00m \u001B[38;5;28mself\u001B[39m\u001B[38;5;241m.\u001B[39m_compiled_call_impl(\u001B[38;5;241m*\u001B[39margs, \u001B[38;5;241m*\u001B[39m\u001B[38;5;241m*\u001B[39mkwargs)  \u001B[38;5;66;03m# type: ignore[misc]\u001B[39;00m\n\u001B[1;32m   1517\u001B[0m \u001B[38;5;28;01melse\u001B[39;00m:\n\u001B[0;32m-> 1518\u001B[0m     \u001B[38;5;28;01mreturn\u001B[39;00m \u001B[38;5;28mself\u001B[39m\u001B[38;5;241m.\u001B[39m_call_impl(\u001B[38;5;241m*\u001B[39margs, \u001B[38;5;241m*\u001B[39m\u001B[38;5;241m*\u001B[39mkwargs)\n",
      "File \u001B[0;32m~/miniconda3/envs/transformers/lib/python3.11/site-packages/torch/nn/modules/module.py:1527\u001B[0m, in \u001B[0;36mModule._call_impl\u001B[0;34m(self, *args, **kwargs)\u001B[0m\n\u001B[1;32m   1522\u001B[0m \u001B[38;5;66;03m# If we don't have any hooks, we want to skip the rest of the logic in\u001B[39;00m\n\u001B[1;32m   1523\u001B[0m \u001B[38;5;66;03m# this function, and just call forward.\u001B[39;00m\n\u001B[1;32m   1524\u001B[0m \u001B[38;5;28;01mif\u001B[39;00m \u001B[38;5;129;01mnot\u001B[39;00m (\u001B[38;5;28mself\u001B[39m\u001B[38;5;241m.\u001B[39m_backward_hooks \u001B[38;5;129;01mor\u001B[39;00m \u001B[38;5;28mself\u001B[39m\u001B[38;5;241m.\u001B[39m_backward_pre_hooks \u001B[38;5;129;01mor\u001B[39;00m \u001B[38;5;28mself\u001B[39m\u001B[38;5;241m.\u001B[39m_forward_hooks \u001B[38;5;129;01mor\u001B[39;00m \u001B[38;5;28mself\u001B[39m\u001B[38;5;241m.\u001B[39m_forward_pre_hooks\n\u001B[1;32m   1525\u001B[0m         \u001B[38;5;129;01mor\u001B[39;00m _global_backward_pre_hooks \u001B[38;5;129;01mor\u001B[39;00m _global_backward_hooks\n\u001B[1;32m   1526\u001B[0m         \u001B[38;5;129;01mor\u001B[39;00m _global_forward_hooks \u001B[38;5;129;01mor\u001B[39;00m _global_forward_pre_hooks):\n\u001B[0;32m-> 1527\u001B[0m     \u001B[38;5;28;01mreturn\u001B[39;00m forward_call(\u001B[38;5;241m*\u001B[39margs, \u001B[38;5;241m*\u001B[39m\u001B[38;5;241m*\u001B[39mkwargs)\n\u001B[1;32m   1529\u001B[0m \u001B[38;5;28;01mtry\u001B[39;00m:\n\u001B[1;32m   1530\u001B[0m     result \u001B[38;5;241m=\u001B[39m \u001B[38;5;28;01mNone\u001B[39;00m\n",
      "File \u001B[0;32m~/miniconda3/envs/transformers/lib/python3.11/site-packages/transformers/models/mistral/modeling_mistral.py:852\u001B[0m, in \u001B[0;36mMistralModel.forward\u001B[0;34m(self, input_ids, attention_mask, position_ids, past_key_values, inputs_embeds, use_cache, output_attentions, output_hidden_states, return_dict)\u001B[0m\n\u001B[1;32m    850\u001B[0m     \u001B[38;5;28;01mraise\u001B[39;00m \u001B[38;5;167;01mValueError\u001B[39;00m(\u001B[38;5;124m\"\u001B[39m\u001B[38;5;124mYou cannot specify both decoder_input_ids and decoder_inputs_embeds at the same time\u001B[39m\u001B[38;5;124m\"\u001B[39m)\n\u001B[1;32m    851\u001B[0m \u001B[38;5;28;01melif\u001B[39;00m input_ids \u001B[38;5;129;01mis\u001B[39;00m \u001B[38;5;129;01mnot\u001B[39;00m \u001B[38;5;28;01mNone\u001B[39;00m:\n\u001B[0;32m--> 852\u001B[0m     batch_size, seq_length \u001B[38;5;241m=\u001B[39m input_ids\u001B[38;5;241m.\u001B[39mshape\n\u001B[1;32m    853\u001B[0m \u001B[38;5;28;01melif\u001B[39;00m inputs_embeds \u001B[38;5;129;01mis\u001B[39;00m \u001B[38;5;129;01mnot\u001B[39;00m \u001B[38;5;28;01mNone\u001B[39;00m:\n\u001B[1;32m    854\u001B[0m     batch_size, seq_length, _ \u001B[38;5;241m=\u001B[39m inputs_embeds\u001B[38;5;241m.\u001B[39mshape\n",
      "\u001B[0;31mValueError\u001B[0m: too many values to unpack (expected 2)"
     ]
    }
   ],
   "source": [
    "encoder_outputs = encoder(\n",
    "            embedding_output,\n",
    "            attention_mask=None,\n",
    "            output_attentions=False,\n",
    "            output_hidden_states=False,\n",
    "            return_dict=False,\n",
    "        )\n"
   ],
   "metadata": {
    "collapsed": false,
    "ExecuteTime": {
     "end_time": "2023-12-31T13:03:06.850185243Z",
     "start_time": "2023-12-31T13:03:06.803828546Z"
    }
   },
   "id": "881fae3d4b13547f",
   "execution_count": 28
  },
  {
   "cell_type": "code",
   "outputs": [],
   "source": [],
   "metadata": {
    "collapsed": false,
    "ExecuteTime": {
     "end_time": "2023-12-24T12:10:48.699504220Z",
     "start_time": "2023-12-24T12:10:48.693966452Z"
    }
   },
   "id": "44ba09d8d015e5ea",
   "execution_count": 28
  },
  {
   "cell_type": "code",
   "outputs": [
    {
     "data": {
      "text/plain": "torch.Size([2880])"
     },
     "execution_count": 29,
     "metadata": {},
     "output_type": "execute_result"
    }
   ],
   "source": [
    "mask.size()"
   ],
   "metadata": {
    "collapsed": false,
    "ExecuteTime": {
     "end_time": "2023-12-24T12:10:49.109657615Z",
     "start_time": "2023-12-24T12:10:49.106263855Z"
    }
   },
   "id": "8d84a502e600a423",
   "execution_count": 29
  },
  {
   "cell_type": "code",
   "outputs": [],
   "source": [
    "from configuration_videomae import VideoMAEConfig\n",
    "from modeling_videomae import VideoMAEModel, VideoMAEForVideoClassification\n",
    "from utils import get_trainable_parameters\n",
    "import os\n",
    "import argparse\n"
   ],
   "metadata": {
    "collapsed": false,
    "ExecuteTime": {
     "end_time": "2023-12-31T14:33:30.656811579Z",
     "start_time": "2023-12-31T14:33:30.640228918Z"
    }
   },
   "id": "7c4e0d498971bae3",
   "execution_count": 6
  },
  {
   "cell_type": "code",
   "outputs": [],
   "source": [
    "config = VideoMAEConfig(\n",
    "            image_size=(270, 480),\n",
    "            patch_size=15,\n",
    "            num_channels=3,\n",
    "            num_frames=5,\n",
    "            tubelet_size=1,\n",
    "            hidden_size=384,\n",
    "            num_hidden_layers=4,\n",
    "            num_attention_heads=6,\n",
    "            intermediate_size=1536,\n",
    "            decoder_num_attention_heads=3,\n",
    "            decoder_hidden_size=192,\n",
    "            decoder_num_hidden_layers=3,\n",
    "            decoder_intermediate_size=1536,\n",
    "            hidden_dropout_prob=0.1,\n",
    "            attention_probs_dropout_prob=0.1,\n",
    "        )"
   ],
   "metadata": {
    "collapsed": false,
    "ExecuteTime": {
     "end_time": "2023-12-31T14:33:31.577648977Z",
     "start_time": "2023-12-31T14:33:31.570061303Z"
    }
   },
   "id": "638d4f621b529b60",
   "execution_count": 7
  },
  {
   "cell_type": "code",
   "outputs": [],
   "source": [
    "m =  VideoMAEForVideoClassification(config)"
   ],
   "metadata": {
    "collapsed": false,
    "ExecuteTime": {
     "end_time": "2023-12-31T14:33:35.379247530Z",
     "start_time": "2023-12-31T14:33:34.318698897Z"
    }
   },
   "id": "c220ae84404199a0",
   "execution_count": 8
  },
  {
   "cell_type": "code",
   "outputs": [
    {
     "data": {
      "text/plain": "VideoMAEForVideoClassification(\n  (videomae): VideoMAEModel(\n    (embeddings): VideoMAEEmbeddings(\n      (patch_embeddings): VideoMAEPatchEmbeddings(\n        (projection): Conv3d(3, 384, kernel_size=(1, 15, 15), stride=(1, 15, 15))\n      )\n    )\n    (encoder): ViTEncoder(\n      (layer): ModuleList(\n        (0-3): 4 x ViTLayer(\n          (attention): ViTAttention(\n            (attention): ViTSelfAttention(\n              (query): Linear(in_features=384, out_features=384, bias=True)\n              (key): Linear(in_features=384, out_features=384, bias=True)\n              (value): Linear(in_features=384, out_features=384, bias=True)\n              (dropout): Dropout(p=0.1, inplace=False)\n            )\n            (output): ViTSelfOutput(\n              (dense): Linear(in_features=384, out_features=384, bias=True)\n              (dropout): Dropout(p=0.1, inplace=False)\n            )\n          )\n          (intermediate): ViTIntermediate(\n            (dense): Linear(in_features=384, out_features=1536, bias=True)\n            (intermediate_act_fn): GELUActivation()\n          )\n          (output): ViTOutput(\n            (dense): Linear(in_features=1536, out_features=384, bias=True)\n            (dropout): Dropout(p=0.1, inplace=False)\n          )\n          (layernorm_before): LayerNorm((384,), eps=1e-12, elementwise_affine=True)\n          (layernorm_after): LayerNorm((384,), eps=1e-12, elementwise_affine=True)\n        )\n      )\n    )\n  )\n  (fc_norm): LayerNorm((384,), eps=1e-05, elementwise_affine=True)\n  (classifier_dropout): Dropout(p=0.8, inplace=False)\n  (classifier): OutputLayer(\n    (dense): Linear(in_features=384, out_features=384, bias=True)\n    (dp): Dropout(p=0.8, inplace=False)\n    (out_proj): Linear(in_features=384, out_features=2, bias=True)\n    (tanh): Tanh()\n  )\n)"
     },
     "execution_count": 9,
     "metadata": {},
     "output_type": "execute_result"
    }
   ],
   "source": [
    "m"
   ],
   "metadata": {
    "collapsed": false,
    "ExecuteTime": {
     "end_time": "2023-12-31T14:33:36.362897136Z",
     "start_time": "2023-12-31T14:33:36.359475588Z"
    }
   },
   "id": "48b2fb189608d633",
   "execution_count": 9
  },
  {
   "cell_type": "code",
   "outputs": [],
   "source": [
    "from dataset import TubeMaskingGenerator, ImageMaskingGenerator\n",
    "\n",
    "tubemaskgen = TubeMaskingGenerator(0.2,15,1)\n",
    "imagemaskgen = ImageMaskingGenerator(0.2,15,1)"
   ],
   "metadata": {
    "collapsed": false,
    "ExecuteTime": {
     "end_time": "2023-12-31T14:37:32.898702688Z",
     "start_time": "2023-12-31T14:37:32.878984532Z"
    }
   },
   "id": "aa39d2747a7f2cff",
   "execution_count": 21
  },
  {
   "cell_type": "code",
   "outputs": [],
   "source": [
    "tubemask = tubemaskgen()\n",
    "imagemask = imagemaskgen()\n"
   ],
   "metadata": {
    "collapsed": false,
    "ExecuteTime": {
     "end_time": "2023-12-31T14:37:33.257389519Z",
     "start_time": "2023-12-31T14:37:33.253789613Z"
    }
   },
   "id": "6fb115acf18eeba9",
   "execution_count": 22
  },
  {
   "cell_type": "code",
   "outputs": [
    {
     "data": {
      "text/plain": "torch.Size([2880])"
     },
     "execution_count": 23,
     "metadata": {},
     "output_type": "execute_result"
    }
   ],
   "source": [
    "tubemask.size()\n"
   ],
   "metadata": {
    "collapsed": false,
    "ExecuteTime": {
     "end_time": "2023-12-31T14:37:34.009411440Z",
     "start_time": "2023-12-31T14:37:34.005053616Z"
    }
   },
   "id": "b7f6cd055c096d0f",
   "execution_count": 23
  },
  {
   "cell_type": "code",
   "outputs": [
    {
     "data": {
      "text/plain": "torch.Size([2880])"
     },
     "execution_count": 24,
     "metadata": {},
     "output_type": "execute_result"
    }
   ],
   "source": [
    "imagemask.size()"
   ],
   "metadata": {
    "collapsed": false,
    "ExecuteTime": {
     "end_time": "2023-12-31T14:37:34.497124617Z",
     "start_time": "2023-12-31T14:37:34.492555421Z"
    }
   },
   "id": "b3b4b910b254ff5d",
   "execution_count": 24
  },
  {
   "cell_type": "code",
   "outputs": [
    {
     "data": {
      "text/plain": "tensor([ True, False,  True,  ...,  True, False, False])"
     },
     "execution_count": 25,
     "metadata": {},
     "output_type": "execute_result"
    }
   ],
   "source": [
    "tubemask"
   ],
   "metadata": {
    "collapsed": false,
    "ExecuteTime": {
     "end_time": "2023-12-31T14:37:35.378056784Z",
     "start_time": "2023-12-31T14:37:35.374254833Z"
    }
   },
   "id": "669e6c0f916a3c7d",
   "execution_count": 25
  },
  {
   "cell_type": "code",
   "outputs": [
    {
     "data": {
      "text/plain": "tensor([False, False, False,  ..., False, False, False])"
     },
     "execution_count": 26,
     "metadata": {},
     "output_type": "execute_result"
    }
   ],
   "source": [
    "imagemask"
   ],
   "metadata": {
    "collapsed": false,
    "ExecuteTime": {
     "end_time": "2023-12-31T14:37:36.329454290Z",
     "start_time": "2023-12-31T14:37:36.324682390Z"
    }
   },
   "id": "9105f5fb49fd9ea",
   "execution_count": 26
  },
  {
   "cell_type": "code",
   "outputs": [
    {
     "data": {
      "text/plain": "tensor([ True, False,  True, False, False, False, False, False, False, False])"
     },
     "execution_count": 27,
     "metadata": {},
     "output_type": "execute_result"
    }
   ],
   "source": [
    "(tubemask | imagemask)[:10]"
   ],
   "metadata": {
    "collapsed": false,
    "ExecuteTime": {
     "end_time": "2023-12-31T14:37:37.651959473Z",
     "start_time": "2023-12-31T14:37:37.611026868Z"
    }
   },
   "id": "d77cf6fa980efdc8",
   "execution_count": 27
  },
  {
   "cell_type": "code",
   "outputs": [],
   "source": [],
   "metadata": {
    "collapsed": false
   },
   "id": "a9dbf68e5813dd77"
  }
 ],
 "metadata": {
  "kernelspec": {
   "display_name": "Python 3",
   "language": "python",
   "name": "python3"
  },
  "language_info": {
   "codemirror_mode": {
    "name": "ipython",
    "version": 2
   },
   "file_extension": ".py",
   "mimetype": "text/x-python",
   "name": "python",
   "nbconvert_exporter": "python",
   "pygments_lexer": "ipython2",
   "version": "2.7.6"
  }
 },
 "nbformat": 4,
 "nbformat_minor": 5
}
