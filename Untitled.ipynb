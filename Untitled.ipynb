{
 "cells": [
  {
   "cell_type": "code",
   "execution_count": 1,
   "id": "989f22f4",
   "metadata": {},
   "outputs": [],
   "source": [
    "import numpy as np\n"
   ]
  },
  {
   "cell_type": "code",
   "execution_count": 26,
   "id": "a8913fd4",
   "metadata": {},
   "outputs": [],
   "source": [
    "def length_normalize_dimensionwise(\n",
    "    matrix: np.ndarray,\n",
    ") -> np.ndarray:\n",
    "\n",
    "\n",
    "    norms = np.sqrt(np.sum(matrix ** 2, axis=1))\n",
    "    norms[norms == 0] = 1\n",
    "    return  matrix / norms[:, np.newaxis]\n"
   ]
  },
  {
   "cell_type": "code",
   "execution_count": 62,
   "id": "2435c905",
   "metadata": {},
   "outputs": [],
   "source": [
    "matrix = np.array([[0.0, -1.0, -1.0],\n",
    "         [-1.0, -1.0, -1.0],\n",
    "         [1.0, -1.0, -1.0],\n",
    "        [0.0, -1.0, 1.0],\n",
    "        [0.0, 1.0, -1.0],\n",
    "        [-1.0, -1.0, 1.0],\n",
    "        [-1.0, 1.0, -1.0],\n",
    "        [1.0, -1.0, 1.0],\n",
    "        [1.0, 1.0, -1.0]])\n",
    "\n",
    "matrix = length_normalize_dimensionwise(matrix)\n",
    "v = np.array([[0.0,0.01,0.01]])\n",
    "v = length_normalize_dimensionwise(v)\n"
   ]
  },
  {
   "cell_type": "code",
   "execution_count": 63,
   "id": "c2bcadc5",
   "metadata": {},
   "outputs": [
    {
     "data": {
      "text/plain": [
       "array([[0.        , 0.70710678, 0.70710678]])"
      ]
     },
     "execution_count": 63,
     "metadata": {},
     "output_type": "execute_result"
    }
   ],
   "source": [
    "v"
   ]
  },
  {
   "cell_type": "code",
   "execution_count": 64,
   "id": "db43e7d9",
   "metadata": {},
   "outputs": [
    {
     "data": {
      "text/plain": [
       "array([[ 0.        , -0.70710678, -0.70710678],\n",
       "       [-0.57735027, -0.57735027, -0.57735027],\n",
       "       [ 0.57735027, -0.57735027, -0.57735027],\n",
       "       [ 0.        , -0.70710678,  0.70710678],\n",
       "       [ 0.        ,  0.70710678, -0.70710678],\n",
       "       [-0.57735027, -0.57735027,  0.57735027],\n",
       "       [-0.57735027,  0.57735027, -0.57735027],\n",
       "       [ 0.57735027, -0.57735027,  0.57735027],\n",
       "       [ 0.57735027,  0.57735027, -0.57735027]])"
      ]
     },
     "execution_count": 64,
     "metadata": {},
     "output_type": "execute_result"
    }
   ],
   "source": [
    "matrix"
   ]
  },
  {
   "cell_type": "code",
   "execution_count": 65,
   "id": "e4d96884",
   "metadata": {},
   "outputs": [
    {
     "data": {
      "text/plain": [
       "3"
      ]
     },
     "execution_count": 65,
     "metadata": {},
     "output_type": "execute_result"
    }
   ],
   "source": [
    "int(np.argmax(v.dot(matrix.T)))"
   ]
  },
  {
   "cell_type": "code",
   "execution_count": 70,
   "id": "8ee6ccef",
   "metadata": {},
   "outputs": [
    {
     "data": {
      "text/plain": [
       "tensor([ 0.0000,  0.9000, -0.9800], dtype=torch.float64)"
      ]
     },
     "execution_count": 70,
     "metadata": {},
     "output_type": "execute_result"
    }
   ],
   "source": [
    "import torch\n",
    "v = np.array([0.0,0.90,-0.98])\n",
    "t = torch.tensor(v)\n",
    "t.view(-1)\n",
    "t"
   ]
  },
  {
   "cell_type": "code",
   "execution_count": 71,
   "id": "e4a86913",
   "metadata": {},
   "outputs": [
    {
     "data": {
      "text/plain": [
       "3"
      ]
     },
     "execution_count": 71,
     "metadata": {},
     "output_type": "execute_result"
    }
   ],
   "source": [
    "matrix = np.array([[0.0, -1.0, -1.0],\n",
    "         [-1.0, -1.0, -1.0],\n",
    "         [1.0, -1.0, -1.0],\n",
    "        [0.0, -1.0, 1.0],\n",
    "        [0.0, 1.0, -1.0],\n",
    "        [-1.0, -1.0, 1.0],\n",
    "        [-1.0, 1.0, -1.0],\n",
    "        [1.0, -1.0, 1.0],\n",
    "        [1.0, 1.0, -1.0]])\n",
    "\n",
    "v = np.array([0.0,0.01,0.01])\n",
    "\n",
    "np.argmin(\n",
    "    np.sum(\n",
    "        (\n",
    "            matrix[np.newaxis, :]\n",
    "            - v[np.newaxis, :][:, np.newaxis]\n",
    "        )\n",
    "        ** 2,\n",
    "        -1,\n",
    "    )\n",
    ")\n"
   ]
  },
  {
   "cell_type": "code",
   "execution_count": 73,
   "id": "24ebcca1",
   "metadata": {},
   "outputs": [
    {
     "data": {
      "text/plain": [
       "tensor(1)"
      ]
     },
     "execution_count": 73,
     "metadata": {},
     "output_type": "execute_result"
    }
   ],
   "source": [
    "torch.argmax(t)"
   ]
  },
  {
   "cell_type": "code",
   "execution_count": null,
   "id": "63e314d3",
   "metadata": {},
   "outputs": [],
   "source": []
  }
 ],
 "metadata": {
  "kernelspec": {
   "display_name": "transformers",
   "language": "python",
   "name": "transformers"
  },
  "language_info": {
   "codemirror_mode": {
    "name": "ipython",
    "version": 3
   },
   "file_extension": ".py",
   "mimetype": "text/x-python",
   "name": "python",
   "nbconvert_exporter": "python",
   "pygments_lexer": "ipython3",
   "version": "3.8.10"
  }
 },
 "nbformat": 4,
 "nbformat_minor": 5
}
